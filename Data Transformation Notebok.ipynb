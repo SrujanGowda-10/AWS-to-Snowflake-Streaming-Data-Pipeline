{
	"metadata": {
		"kernelspec": {
			"name": "glue_pyspark",
			"display_name": "Glue PySpark",
			"language": "python"
		},
		"language_info": {
			"name": "Python_Glue_Session",
			"mimetype": "text/x-python",
			"codemirror_mode": {
				"name": "python",
				"version": 3
			},
			"pygments_lexer": "python3",
			"file_extension": ".py"
		}
	},
	"nbformat_minor": 4,
	"nbformat": 4,
	"cells": [
		{
			"cell_type": "markdown",
			"source": "# AWS Glue Studio Notebook\n##### You are now running a AWS Glue Studio notebook; To start using your notebook you need to start an AWS Glue Interactive Session.\n",
			"metadata": {
				"editable": true,
				"trusted": true
			}
		},
		{
			"cell_type": "code",
			"source": "%idle_timeout 2880\n%glue_version 5.0\n%worker_type G.1X\n%number_of_workers 5\n\nimport sys\nfrom awsglue.transforms import *\nfrom awsglue.utils import getResolvedOptions\nfrom pyspark.context import SparkContext\nfrom awsglue.context import GlueContext\nfrom awsglue.job import Job\n  \nsc = SparkContext.getOrCreate()\nglueContext = GlueContext(sc)\nspark = glueContext.spark_session\njob = Job(glueContext)",
			"metadata": {
				"trusted": true,
				"editable": true
			},
			"execution_count": 14,
			"outputs": [
				{
					"name": "stderr",
					"text": "You are already connected to a glueetl session b2b6a65c-3ada-4cfa-ba92-1e1ddbbb85fa.\n\nNo change will be made to the current session that is set as glueetl. The session configuration change will apply to newly created sessions.\n",
					"output_type": "stream"
				},
				{
					"name": "stdout",
					"text": "Current idle_timeout is 2880 minutes.\nidle_timeout has been set to 2880 minutes.\n",
					"output_type": "stream"
				},
				{
					"name": "stderr",
					"text": "You are already connected to a glueetl session b2b6a65c-3ada-4cfa-ba92-1e1ddbbb85fa.\n\nNo change will be made to the current session that is set as glueetl. The session configuration change will apply to newly created sessions.\n",
					"output_type": "stream"
				},
				{
					"name": "stdout",
					"text": "Setting Glue version to: 5.0\n",
					"output_type": "stream"
				},
				{
					"name": "stderr",
					"text": "You are already connected to a glueetl session b2b6a65c-3ada-4cfa-ba92-1e1ddbbb85fa.\n\nNo change will be made to the current session that is set as glueetl. The session configuration change will apply to newly created sessions.\n",
					"output_type": "stream"
				},
				{
					"name": "stdout",
					"text": "Previous worker type: G.1X\nSetting new worker type to: G.1X\n",
					"output_type": "stream"
				},
				{
					"name": "stderr",
					"text": "You are already connected to a glueetl session b2b6a65c-3ada-4cfa-ba92-1e1ddbbb85fa.\n\nNo change will be made to the current session that is set as glueetl. The session configuration change will apply to newly created sessions.\n",
					"output_type": "stream"
				},
				{
					"name": "stdout",
					"text": "Previous number of workers: 5\nSetting new number of workers to: 5\n\n",
					"output_type": "stream"
				}
			]
		},
		{
			"cell_type": "code",
			"source": "from pyspark.sql.types import StructType, StructField, StringType, IntegerType\nfrom awsglue.dynamicframe import DynamicFrame\nfrom datetime import datetime\nfrom pyspark.sql.functions import col\nimport boto3",
			"metadata": {
				"trusted": true,
				"tags": []
			},
			"execution_count": 15,
			"outputs": [
				{
					"name": "stdout",
					"text": "\n",
					"output_type": "stream"
				}
			]
		},
		{
			"cell_type": "code",
			"source": "dyf = glueContext.create_dynamic_frame.from_options(\n    connection_type=\"s3\",\n    connection_options = {\n        \"path\":[\"s3://scd-etl-bucket/raw_data/\"]\n    },\n    format = \"json\"    \n)",
			"metadata": {
				"trusted": true,
				"tags": []
			},
			"execution_count": 16,
			"outputs": [
				{
					"name": "stdout",
					"text": "\n",
					"output_type": "stream"
				}
			]
		},
		{
			"cell_type": "code",
			"source": "schema = StructType([\n    StructField(\"id\", IntegerType(), True),\n    StructField(\"first_name\", StringType(), True),\n    StructField(\"last_name\", StringType(), True),\n    StructField(\"street_name\", StringType(), True),\n    StructField(\"city\", StringType(), True),\n    StructField(\"state\", StringType(), True),\n    StructField(\"zip_code\", StringType(), True),\n    StructField(\"country\", StringType(), True),\n    StructField(\"job\", StringType(), True),\n    StructField(\"email\", StringType(), True),\n    StructField(\"phone_number\", StringType(), True),\n])",
			"metadata": {
				"trusted": true,
				"tags": []
			},
			"execution_count": 17,
			"outputs": [
				{
					"name": "stdout",
					"text": "\n",
					"output_type": "stream"
				}
			]
		},
		{
			"cell_type": "code",
			"source": "df = spark.read.schema(schema).json(\"s3://scd-etl-bucket/raw_data/\")",
			"metadata": {
				"trusted": true,
				"tags": []
			},
			"execution_count": 18,
			"outputs": [
				{
					"name": "stdout",
					"text": "\n",
					"output_type": "stream"
				}
			]
		},
		{
			"cell_type": "code",
			"source": "df.printSchema()",
			"metadata": {
				"trusted": true,
				"tags": []
			},
			"execution_count": 19,
			"outputs": [
				{
					"name": "stdout",
					"text": "root\n |-- id: integer (nullable = true)\n |-- first_name: string (nullable = true)\n |-- last_name: string (nullable = true)\n |-- street_name: string (nullable = true)\n |-- city: string (nullable = true)\n |-- state: string (nullable = true)\n |-- zip_code: string (nullable = true)\n |-- country: string (nullable = true)\n |-- job: string (nullable = true)\n |-- email: string (nullable = true)\n |-- phone_number: string (nullable = true)\n",
					"output_type": "stream"
				}
			]
		},
		{
			"cell_type": "code",
			"source": "customer_df = df.select(\n    col('id'),\n    col('first_name'),\n    col('last_name'),\n    col('street_name'),\n    col('city'),\n    col('state'),\n    col('zip_code'),\n    col('country'),\n    col('job'),\n    col('email'),\n    col('phone_number')\n)\n\ncustomer_df.show()",
			"metadata": {
				"trusted": true,
				"tags": []
			},
			"execution_count": 20,
			"outputs": [
				{
					"name": "stdout",
					"text": "+----+-----------+---------+-------------------+--------------------+-------------+--------+--------------------+--------------------+--------------------+--------------------+\n|  id| first_name|last_name|        street_name|                city|        state|zip_code|             country|                 job|               email|        phone_number|\n+----+-----------+---------+-------------------+--------------------+-------------+--------+--------------------+--------------------+--------------------+--------------------+\n|3627|   Caroline|Cervantes|   Samantha Highway|            Carrport|     New York|   27705|             Liberia|      Water engineer| uwalker@example.net|  976.325.0884x14984|\n| 786|Christopher|   Garcia|   Stephen Junction|  East Christinefurt|     Maryland|   74362|   Equatorial Guinea|       Buyer, retail|hudsonangela@exam...|  598.366.6645x31009|\n|3040|      Shane|    Curry|      Brooks Fields|  North Benjaminstad|      Wyoming|   10431|             Somalia|Accountant, chart...|savannahhamilton@...|   499.443.6361x8353|\n| 542|      Louis|  Roberts|       Parker Glens|    North Marciaport|Massachusetts|   68182|              Serbia| Information officer|schwartzwilliam@e...|       (672)876-6206|\n|2597|     Austin|  Santana|    Brian Stravenue|      Whitneyborough|   California|   38429|        Cook Islands|   Chemical engineer|anthonysanchez@ex...|          3559215138|\n|2697|     Ashley|    Jones| Williamson Prairie|            Johnside|     Delaware|   63973|               Gabon|    Surveyor, mining|sandersdonna@exam...|001-526-496-5617x...|\n|2716|   Brittney|    Lyons|  Rodriguez Circles|            West Ian|     Oklahoma|   86200|              Bhutan|Engineer, automotive|fleonard@example.com| (908)918-2182x65823|\n| 919|    Douglas|     Gill|       Aaron Points|           West John|        Idaho|   89941|            Guernsey|Advertising art d...|ofriedman@example...|+1-791-681-4043x1...|\n|2109|  Elizabeth|Hernandez|     Ferguson Locks|    Lake Zacharybury| Pennsylvania|   13445|               Niger|Telecommunication...|  lisa62@example.org|    683-764-0308x926|\n| 665|     Laurie| Martinez|      Ryan Overpass| South Jennifershire|   New Jersey|   59751|Falkland Islands ...|      Teacher, music|elainepham@exampl...| (876)737-3247x93642|\n|1734|     Hunter|    Brown|          Juan Mill|         North Jesse|     Michigan|   18811|          Cape Verde|       Tax inspector|hawkinslaura@exam...|+1-535-823-4876x5...|\n|4177|  Christine|    Smith|      Ballard Place|         West Dakota|     Maryland|   92453|              Mexico|Nutritional thera...|kvalencia@example...|        350-326-1546|\n|2721|    Deborah|   Murphy|          Boyle Dam|Lake Christopherside|     Maryland|   08838|           Argentina|Logistics and dis...|tiffanychandler@e...|     +1-377-545-9033|\n|4377|     Denise|     Cook|      Collins Ports|            Vickiton|        Idaho|   76414|          Luxembourg|         Ship broker|andrew64@example.org|       (858)551-8674|\n|4140|    Jeffrey|    Lewis|     Danielle Forks|         East Andrew|     Colorado|   42568|      Czech Republic|          Printmaker|gonzalezstephanie...|001-734-222-2888x...|\n|4541|       Eric|   Garcia|       Jason Knolls|           Cindyport|     Michigan|   11455|             Bahrain|        Risk manager|robinsonerika@exa...|001-737-510-7647x...|\n| 142|     Robert|    Allen|       Brenda Ports|          Owensmouth|   New Mexico|   66091|Saint Kitts and N...|Engineer, control...|shenderson@exampl...|  908.694.4134x29978|\n|2322|      Randy|  Johnson|         Gray Alley|            Lake Amy|     New York|   90383|      Cayman Islands|     Hospital doctor|kimberly74@exampl...|        413-571-6285|\n|1721|      Brian|  Coleman|Christopher Corners|         Millermouth|    Wisconsin|   07658|                Iraq|     Sales executive|christina01@examp...| (497)202-9139x47247|\n|2984|       Eric|   Pruitt|        Mark Forest|         Hansonshire| Pennsylvania|   70604|  Russian Federation|Product/process d...| laura18@example.com|        561-431-2583|\n+----+-----------+---------+-------------------+--------------------+-------------+--------+--------------------+--------------------+--------------------+--------------------+\nonly showing top 20 rows\n",
					"output_type": "stream"
				}
			]
		},
		{
			"cell_type": "code",
			"source": "customer_df=customer_df.drop_duplicates(['id'])",
			"metadata": {
				"trusted": true,
				"tags": []
			},
			"execution_count": 21,
			"outputs": [
				{
					"name": "stdout",
					"text": "\n",
					"output_type": "stream"
				}
			]
		},
		{
			"cell_type": "code",
			"source": "customer_df.count()",
			"metadata": {
				"trusted": true,
				"tags": []
			},
			"execution_count": 22,
			"outputs": [
				{
					"name": "stdout",
					"text": "3135\n",
					"output_type": "stream"
				}
			]
		},
		{
			"cell_type": "code",
			"source": "dyf = DynamicFrame.fromDF(customer_df, glueContext, \"dyf\")\nfolder_datetime = datetime.now().strftime(\"%m-%d-%Y_%H:%M:%S\")\nglueContext.write_dynamic_frame.from_options(\n    frame = dyf,\n    connection_type = \"s3\",\n    connection_options = {\n        \"path\":f\"s3://scd-etl-bucket/transformed_data/customer_{folder_datetime}\"\n    },\n    format = \"csv\"\n)",
			"metadata": {
				"trusted": true,
				"tags": []
			},
			"execution_count": 23,
			"outputs": [
				{
					"name": "stdout",
					"text": "<awsglue.dynamicframe.DynamicFrame object at 0x7f0ae0db9590>\n",
					"output_type": "stream"
				}
			]
		},
		{
			"cell_type": "code",
			"source": "#archiving the source data after transformation\nbucket = 'scd-etl-bucket'\nsource_folder = 'raw_data/'\narchive_folder = 'archive_raw_data/'\n\ns3_client = boto3.client('s3')\nobject_list = s3_client.list_objects(Bucket=bucket).get('Contents')\n\nfor obj in object_list:\n    obj_name = obj['Key']\n    \n    if obj_name.startswith(source_folder):\n        \n        # to get the filename\n        file_name = obj_name.split('/')[-1]\n        \n        #filepath for the destination\n        destination_path = archive_folder + file_name\n        \n        copy_source = {\n            'Bucket':bucket,\n            'Key':obj_name \n        }\n        \n        #copy the file to archive\n        s3_client.copy_object(\n            Bucket = bucket,\n            CopySource = copy_source,\n            Key = destination_path\n        )\n        \n        #delete the file from source path\n        s3_client.delete_object(\n            Bucket=bucket,\n            Key=obj_name\n        )\n    \n",
			"metadata": {
				"trusted": true,
				"tags": []
			},
			"execution_count": 26,
			"outputs": [
				{
					"name": "stdout",
					"text": "{'ResponseMetadata': {'RequestId': 'QDP1HZ56VDY6Y50Q', 'HostId': 'pr8TdPSSF+9g7hjfTD1kiAd/48CaimVuSR8ybHuPPe1YusKStwOWVcJRvqSSKNUlPJqKnG5woJ5Imbv6ov5PltwikSGHW/aK', 'HTTPStatusCode': 200, 'HTTPHeaders': {'x-amz-id-2': 'pr8TdPSSF+9g7hjfTD1kiAd/48CaimVuSR8ybHuPPe1YusKStwOWVcJRvqSSKNUlPJqKnG5woJ5Imbv6ov5PltwikSGHW/aK', 'x-amz-request-id': 'QDP1HZ56VDY6Y50Q', 'date': 'Sat, 14 Dec 2024 17:42:52 GMT', 'x-amz-server-side-encryption': 'AES256', 'content-type': 'application/xml', 'content-length': '224', 'server': 'AmazonS3'}, 'RetryAttempts': 0}, 'ServerSideEncryption': 'AES256', 'CopyObjectResult': {'ETag': '\"d41d8cd98f00b204e9800998ecf8427e\"', 'LastModified': datetime.datetime(2024, 12, 14, 17, 42, 52, tzinfo=tzlocal())}}\n{'ResponseMetadata': {'RequestId': 'QDP8G16JHEPK32YM', 'HostId': 'X5O11++rCCwoVqthy6L1wlSWfTY3oSi+1gJI/xfA5WU0RM4/CFxNGj0X739QdOUATFIFf932tEVJd08yd95BYl8DGKumnvom', 'HTTPStatusCode': 204, 'HTTPHeaders': {'x-amz-id-2': 'X5O11++rCCwoVqthy6L1wlSWfTY3oSi+1gJI/xfA5WU0RM4/CFxNGj0X739QdOUATFIFf932tEVJd08yd95BYl8DGKumnvom', 'x-amz-request-id': 'QDP8G16JHEPK32YM', 'date': 'Sat, 14 Dec 2024 17:42:52 GMT', 'server': 'AmazonS3'}, 'RetryAttempts': 0}}\n{'ResponseMetadata': {'RequestId': 'QDP9M8DPNYKT3BMK', 'HostId': 'egFQOkAjptb4uo1GATKzSR8gL1Avwe9B055lQdSpxyrIjHIDwTpTeeeR3R0U3zeqEIachE8ZDSzXo5E0BKRKaLg5SQkeAFtp', 'HTTPStatusCode': 200, 'HTTPHeaders': {'x-amz-id-2': 'egFQOkAjptb4uo1GATKzSR8gL1Avwe9B055lQdSpxyrIjHIDwTpTeeeR3R0U3zeqEIachE8ZDSzXo5E0BKRKaLg5SQkeAFtp', 'x-amz-request-id': 'QDP9M8DPNYKT3BMK', 'date': 'Sat, 14 Dec 2024 17:42:52 GMT', 'x-amz-server-side-encryption': 'AES256', 'content-type': 'application/xml', 'content-length': '224', 'server': 'AmazonS3'}, 'RetryAttempts': 0}, 'ServerSideEncryption': 'AES256', 'CopyObjectResult': {'ETag': '\"80a5bd7d05c836f35d042938bf04799b\"', 'LastModified': datetime.datetime(2024, 12, 14, 17, 42, 52, tzinfo=tzlocal())}}\n{'ResponseMetadata': {'RequestId': 'QDPF3GM6CXSG03Q0', 'HostId': 'xmC4Sm87LKE6j7f2zs0UgeAKhNYiUqxpJtuIkudHXU3lBO7uTj7GaqERA9lwyhe78AegBi+VIwKhmjr7uZAKeQssHBGz9YMQ', 'HTTPStatusCode': 204, 'HTTPHeaders': {'x-amz-id-2': 'xmC4Sm87LKE6j7f2zs0UgeAKhNYiUqxpJtuIkudHXU3lBO7uTj7GaqERA9lwyhe78AegBi+VIwKhmjr7uZAKeQssHBGz9YMQ', 'x-amz-request-id': 'QDPF3GM6CXSG03Q0', 'date': 'Sat, 14 Dec 2024 17:42:52 GMT', 'server': 'AmazonS3'}, 'RetryAttempts': 0}}\n",
					"output_type": "stream"
				}
			]
		},
		{
			"cell_type": "code",
			"source": "",
			"metadata": {},
			"execution_count": null,
			"outputs": []
		}
	]
}